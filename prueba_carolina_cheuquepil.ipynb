{
  "nbformat": 4,
  "nbformat_minor": 0,
  "metadata": {
    "colab": {
      "provenance": []
    },
    "kernelspec": {
      "name": "python3",
      "display_name": "Python 3"
    },
    "language_info": {
      "name": "python"
    }
  },
  "cells": [
    {
      "cell_type": "code",
      "execution_count": 1,
      "metadata": {
        "id": "OCfV4UJ3QrdM"
      },
      "outputs": [],
      "source": [
        "# Importar librerías\n",
        "import numpy as np\n",
        "import pandas as pd\n",
        "import matplotlib.pyplot as plt\n",
        "import seaborn as sns"
      ]
    },
    {
      "cell_type": "code",
      "source": [
        "from google.colab import drive\n",
        "drive.mount('/content/drive')\n"
      ],
      "metadata": {
        "colab": {
          "base_uri": "https://localhost:8080/"
        },
        "id": "j-huCCSinCWW",
        "outputId": "0a65b8c0-1e34-4139-d71b-94f81b52f043"
      },
      "execution_count": 2,
      "outputs": [
        {
          "output_type": "stream",
          "name": "stdout",
          "text": [
            "Drive already mounted at /content/drive; to attempt to forcibly remount, call drive.mount(\"/content/drive\", force_remount=True).\n"
          ]
        }
      ]
    },
    {
      "cell_type": "code",
      "source": [
        "url = '/content/drive/MyDrive/Colab Notebooks/prueba/WA_Fn-UseC_-HR-Employee-Attrition.csv'\n",
        "df = pd.read_csv(url, sep=',')\n",
        "\n",
        "df.head() #Método para ver los 1° registros"
      ],
      "metadata": {
        "colab": {
          "base_uri": "https://localhost:8080/",
          "height": 325
        },
        "id": "KxiokH_fRLrS",
        "outputId": "3054aa81-ae03-4ef0-b593-b440c763d0bf"
      },
      "execution_count": 3,
      "outputs": [
        {
          "output_type": "execute_result",
          "data": {
            "text/plain": [
              "   Age Attrition     BusinessTravel  DailyRate              Department  \\\n",
              "0   41       Yes      Travel_Rarely       1102                   Sales   \n",
              "1   49        No  Travel_Frequently        279  Research & Development   \n",
              "2   37       Yes      Travel_Rarely       1373  Research & Development   \n",
              "3   33        No  Travel_Frequently       1392  Research & Development   \n",
              "4   27        No      Travel_Rarely        591  Research & Development   \n",
              "\n",
              "   DistanceFromHome  Education EducationField  EmployeeCount  EmployeeNumber  \\\n",
              "0                 1          2  Life Sciences              1               1   \n",
              "1                 8          1  Life Sciences              1               2   \n",
              "2                 2          2          Other              1               4   \n",
              "3                 3          4  Life Sciences              1               5   \n",
              "4                 2          1        Medical              1               7   \n",
              "\n",
              "   ...  RelationshipSatisfaction StandardHours  StockOptionLevel  \\\n",
              "0  ...                         1            80                 0   \n",
              "1  ...                         4            80                 1   \n",
              "2  ...                         2            80                 0   \n",
              "3  ...                         3            80                 0   \n",
              "4  ...                         4            80                 1   \n",
              "\n",
              "   TotalWorkingYears  TrainingTimesLastYear WorkLifeBalance  YearsAtCompany  \\\n",
              "0                  8                      0               1               6   \n",
              "1                 10                      3               3              10   \n",
              "2                  7                      3               3               0   \n",
              "3                  8                      3               3               8   \n",
              "4                  6                      3               3               2   \n",
              "\n",
              "  YearsInCurrentRole  YearsSinceLastPromotion  YearsWithCurrManager  \n",
              "0                  4                        0                     5  \n",
              "1                  7                        1                     7  \n",
              "2                  0                        0                     0  \n",
              "3                  7                        3                     0  \n",
              "4                  2                        2                     2  \n",
              "\n",
              "[5 rows x 35 columns]"
            ],
            "text/html": [
              "\n",
              "  <div id=\"df-0a21b1d4-7f53-439a-8b96-c9a0bfac1b34\" class=\"colab-df-container\">\n",
              "    <div>\n",
              "<style scoped>\n",
              "    .dataframe tbody tr th:only-of-type {\n",
              "        vertical-align: middle;\n",
              "    }\n",
              "\n",
              "    .dataframe tbody tr th {\n",
              "        vertical-align: top;\n",
              "    }\n",
              "\n",
              "    .dataframe thead th {\n",
              "        text-align: right;\n",
              "    }\n",
              "</style>\n",
              "<table border=\"1\" class=\"dataframe\">\n",
              "  <thead>\n",
              "    <tr style=\"text-align: right;\">\n",
              "      <th></th>\n",
              "      <th>Age</th>\n",
              "      <th>Attrition</th>\n",
              "      <th>BusinessTravel</th>\n",
              "      <th>DailyRate</th>\n",
              "      <th>Department</th>\n",
              "      <th>DistanceFromHome</th>\n",
              "      <th>Education</th>\n",
              "      <th>EducationField</th>\n",
              "      <th>EmployeeCount</th>\n",
              "      <th>EmployeeNumber</th>\n",
              "      <th>...</th>\n",
              "      <th>RelationshipSatisfaction</th>\n",
              "      <th>StandardHours</th>\n",
              "      <th>StockOptionLevel</th>\n",
              "      <th>TotalWorkingYears</th>\n",
              "      <th>TrainingTimesLastYear</th>\n",
              "      <th>WorkLifeBalance</th>\n",
              "      <th>YearsAtCompany</th>\n",
              "      <th>YearsInCurrentRole</th>\n",
              "      <th>YearsSinceLastPromotion</th>\n",
              "      <th>YearsWithCurrManager</th>\n",
              "    </tr>\n",
              "  </thead>\n",
              "  <tbody>\n",
              "    <tr>\n",
              "      <th>0</th>\n",
              "      <td>41</td>\n",
              "      <td>Yes</td>\n",
              "      <td>Travel_Rarely</td>\n",
              "      <td>1102</td>\n",
              "      <td>Sales</td>\n",
              "      <td>1</td>\n",
              "      <td>2</td>\n",
              "      <td>Life Sciences</td>\n",
              "      <td>1</td>\n",
              "      <td>1</td>\n",
              "      <td>...</td>\n",
              "      <td>1</td>\n",
              "      <td>80</td>\n",
              "      <td>0</td>\n",
              "      <td>8</td>\n",
              "      <td>0</td>\n",
              "      <td>1</td>\n",
              "      <td>6</td>\n",
              "      <td>4</td>\n",
              "      <td>0</td>\n",
              "      <td>5</td>\n",
              "    </tr>\n",
              "    <tr>\n",
              "      <th>1</th>\n",
              "      <td>49</td>\n",
              "      <td>No</td>\n",
              "      <td>Travel_Frequently</td>\n",
              "      <td>279</td>\n",
              "      <td>Research &amp; Development</td>\n",
              "      <td>8</td>\n",
              "      <td>1</td>\n",
              "      <td>Life Sciences</td>\n",
              "      <td>1</td>\n",
              "      <td>2</td>\n",
              "      <td>...</td>\n",
              "      <td>4</td>\n",
              "      <td>80</td>\n",
              "      <td>1</td>\n",
              "      <td>10</td>\n",
              "      <td>3</td>\n",
              "      <td>3</td>\n",
              "      <td>10</td>\n",
              "      <td>7</td>\n",
              "      <td>1</td>\n",
              "      <td>7</td>\n",
              "    </tr>\n",
              "    <tr>\n",
              "      <th>2</th>\n",
              "      <td>37</td>\n",
              "      <td>Yes</td>\n",
              "      <td>Travel_Rarely</td>\n",
              "      <td>1373</td>\n",
              "      <td>Research &amp; Development</td>\n",
              "      <td>2</td>\n",
              "      <td>2</td>\n",
              "      <td>Other</td>\n",
              "      <td>1</td>\n",
              "      <td>4</td>\n",
              "      <td>...</td>\n",
              "      <td>2</td>\n",
              "      <td>80</td>\n",
              "      <td>0</td>\n",
              "      <td>7</td>\n",
              "      <td>3</td>\n",
              "      <td>3</td>\n",
              "      <td>0</td>\n",
              "      <td>0</td>\n",
              "      <td>0</td>\n",
              "      <td>0</td>\n",
              "    </tr>\n",
              "    <tr>\n",
              "      <th>3</th>\n",
              "      <td>33</td>\n",
              "      <td>No</td>\n",
              "      <td>Travel_Frequently</td>\n",
              "      <td>1392</td>\n",
              "      <td>Research &amp; Development</td>\n",
              "      <td>3</td>\n",
              "      <td>4</td>\n",
              "      <td>Life Sciences</td>\n",
              "      <td>1</td>\n",
              "      <td>5</td>\n",
              "      <td>...</td>\n",
              "      <td>3</td>\n",
              "      <td>80</td>\n",
              "      <td>0</td>\n",
              "      <td>8</td>\n",
              "      <td>3</td>\n",
              "      <td>3</td>\n",
              "      <td>8</td>\n",
              "      <td>7</td>\n",
              "      <td>3</td>\n",
              "      <td>0</td>\n",
              "    </tr>\n",
              "    <tr>\n",
              "      <th>4</th>\n",
              "      <td>27</td>\n",
              "      <td>No</td>\n",
              "      <td>Travel_Rarely</td>\n",
              "      <td>591</td>\n",
              "      <td>Research &amp; Development</td>\n",
              "      <td>2</td>\n",
              "      <td>1</td>\n",
              "      <td>Medical</td>\n",
              "      <td>1</td>\n",
              "      <td>7</td>\n",
              "      <td>...</td>\n",
              "      <td>4</td>\n",
              "      <td>80</td>\n",
              "      <td>1</td>\n",
              "      <td>6</td>\n",
              "      <td>3</td>\n",
              "      <td>3</td>\n",
              "      <td>2</td>\n",
              "      <td>2</td>\n",
              "      <td>2</td>\n",
              "      <td>2</td>\n",
              "    </tr>\n",
              "  </tbody>\n",
              "</table>\n",
              "<p>5 rows × 35 columns</p>\n",
              "</div>\n",
              "    <div class=\"colab-df-buttons\">\n",
              "\n",
              "  <div class=\"colab-df-container\">\n",
              "    <button class=\"colab-df-convert\" onclick=\"convertToInteractive('df-0a21b1d4-7f53-439a-8b96-c9a0bfac1b34')\"\n",
              "            title=\"Convert this dataframe to an interactive table.\"\n",
              "            style=\"display:none;\">\n",
              "\n",
              "  <svg xmlns=\"http://www.w3.org/2000/svg\" height=\"24px\" viewBox=\"0 -960 960 960\">\n",
              "    <path d=\"M120-120v-720h720v720H120Zm60-500h600v-160H180v160Zm220 220h160v-160H400v160Zm0 220h160v-160H400v160ZM180-400h160v-160H180v160Zm440 0h160v-160H620v160ZM180-180h160v-160H180v160Zm440 0h160v-160H620v160Z\"/>\n",
              "  </svg>\n",
              "    </button>\n",
              "\n",
              "  <style>\n",
              "    .colab-df-container {\n",
              "      display:flex;\n",
              "      gap: 12px;\n",
              "    }\n",
              "\n",
              "    .colab-df-convert {\n",
              "      background-color: #E8F0FE;\n",
              "      border: none;\n",
              "      border-radius: 50%;\n",
              "      cursor: pointer;\n",
              "      display: none;\n",
              "      fill: #1967D2;\n",
              "      height: 32px;\n",
              "      padding: 0 0 0 0;\n",
              "      width: 32px;\n",
              "    }\n",
              "\n",
              "    .colab-df-convert:hover {\n",
              "      background-color: #E2EBFA;\n",
              "      box-shadow: 0px 1px 2px rgba(60, 64, 67, 0.3), 0px 1px 3px 1px rgba(60, 64, 67, 0.15);\n",
              "      fill: #174EA6;\n",
              "    }\n",
              "\n",
              "    .colab-df-buttons div {\n",
              "      margin-bottom: 4px;\n",
              "    }\n",
              "\n",
              "    [theme=dark] .colab-df-convert {\n",
              "      background-color: #3B4455;\n",
              "      fill: #D2E3FC;\n",
              "    }\n",
              "\n",
              "    [theme=dark] .colab-df-convert:hover {\n",
              "      background-color: #434B5C;\n",
              "      box-shadow: 0px 1px 3px 1px rgba(0, 0, 0, 0.15);\n",
              "      filter: drop-shadow(0px 1px 2px rgba(0, 0, 0, 0.3));\n",
              "      fill: #FFFFFF;\n",
              "    }\n",
              "  </style>\n",
              "\n",
              "    <script>\n",
              "      const buttonEl =\n",
              "        document.querySelector('#df-0a21b1d4-7f53-439a-8b96-c9a0bfac1b34 button.colab-df-convert');\n",
              "      buttonEl.style.display =\n",
              "        google.colab.kernel.accessAllowed ? 'block' : 'none';\n",
              "\n",
              "      async function convertToInteractive(key) {\n",
              "        const element = document.querySelector('#df-0a21b1d4-7f53-439a-8b96-c9a0bfac1b34');\n",
              "        const dataTable =\n",
              "          await google.colab.kernel.invokeFunction('convertToInteractive',\n",
              "                                                    [key], {});\n",
              "        if (!dataTable) return;\n",
              "\n",
              "        const docLinkHtml = 'Like what you see? Visit the ' +\n",
              "          '<a target=\"_blank\" href=https://colab.research.google.com/notebooks/data_table.ipynb>data table notebook</a>'\n",
              "          + ' to learn more about interactive tables.';\n",
              "        element.innerHTML = '';\n",
              "        dataTable['output_type'] = 'display_data';\n",
              "        await google.colab.output.renderOutput(dataTable, element);\n",
              "        const docLink = document.createElement('div');\n",
              "        docLink.innerHTML = docLinkHtml;\n",
              "        element.appendChild(docLink);\n",
              "      }\n",
              "    </script>\n",
              "  </div>\n",
              "\n",
              "\n",
              "<div id=\"df-8dc2af30-7ddf-4bec-8fc1-2d68b1390d98\">\n",
              "  <button class=\"colab-df-quickchart\" onclick=\"quickchart('df-8dc2af30-7ddf-4bec-8fc1-2d68b1390d98')\"\n",
              "            title=\"Suggest charts\"\n",
              "            style=\"display:none;\">\n",
              "\n",
              "<svg xmlns=\"http://www.w3.org/2000/svg\" height=\"24px\"viewBox=\"0 0 24 24\"\n",
              "     width=\"24px\">\n",
              "    <g>\n",
              "        <path d=\"M19 3H5c-1.1 0-2 .9-2 2v14c0 1.1.9 2 2 2h14c1.1 0 2-.9 2-2V5c0-1.1-.9-2-2-2zM9 17H7v-7h2v7zm4 0h-2V7h2v10zm4 0h-2v-4h2v4z\"/>\n",
              "    </g>\n",
              "</svg>\n",
              "  </button>\n",
              "\n",
              "<style>\n",
              "  .colab-df-quickchart {\n",
              "      --bg-color: #E8F0FE;\n",
              "      --fill-color: #1967D2;\n",
              "      --hover-bg-color: #E2EBFA;\n",
              "      --hover-fill-color: #174EA6;\n",
              "      --disabled-fill-color: #AAA;\n",
              "      --disabled-bg-color: #DDD;\n",
              "  }\n",
              "\n",
              "  [theme=dark] .colab-df-quickchart {\n",
              "      --bg-color: #3B4455;\n",
              "      --fill-color: #D2E3FC;\n",
              "      --hover-bg-color: #434B5C;\n",
              "      --hover-fill-color: #FFFFFF;\n",
              "      --disabled-bg-color: #3B4455;\n",
              "      --disabled-fill-color: #666;\n",
              "  }\n",
              "\n",
              "  .colab-df-quickchart {\n",
              "    background-color: var(--bg-color);\n",
              "    border: none;\n",
              "    border-radius: 50%;\n",
              "    cursor: pointer;\n",
              "    display: none;\n",
              "    fill: var(--fill-color);\n",
              "    height: 32px;\n",
              "    padding: 0;\n",
              "    width: 32px;\n",
              "  }\n",
              "\n",
              "  .colab-df-quickchart:hover {\n",
              "    background-color: var(--hover-bg-color);\n",
              "    box-shadow: 0 1px 2px rgba(60, 64, 67, 0.3), 0 1px 3px 1px rgba(60, 64, 67, 0.15);\n",
              "    fill: var(--button-hover-fill-color);\n",
              "  }\n",
              "\n",
              "  .colab-df-quickchart-complete:disabled,\n",
              "  .colab-df-quickchart-complete:disabled:hover {\n",
              "    background-color: var(--disabled-bg-color);\n",
              "    fill: var(--disabled-fill-color);\n",
              "    box-shadow: none;\n",
              "  }\n",
              "\n",
              "  .colab-df-spinner {\n",
              "    border: 2px solid var(--fill-color);\n",
              "    border-color: transparent;\n",
              "    border-bottom-color: var(--fill-color);\n",
              "    animation:\n",
              "      spin 1s steps(1) infinite;\n",
              "  }\n",
              "\n",
              "  @keyframes spin {\n",
              "    0% {\n",
              "      border-color: transparent;\n",
              "      border-bottom-color: var(--fill-color);\n",
              "      border-left-color: var(--fill-color);\n",
              "    }\n",
              "    20% {\n",
              "      border-color: transparent;\n",
              "      border-left-color: var(--fill-color);\n",
              "      border-top-color: var(--fill-color);\n",
              "    }\n",
              "    30% {\n",
              "      border-color: transparent;\n",
              "      border-left-color: var(--fill-color);\n",
              "      border-top-color: var(--fill-color);\n",
              "      border-right-color: var(--fill-color);\n",
              "    }\n",
              "    40% {\n",
              "      border-color: transparent;\n",
              "      border-right-color: var(--fill-color);\n",
              "      border-top-color: var(--fill-color);\n",
              "    }\n",
              "    60% {\n",
              "      border-color: transparent;\n",
              "      border-right-color: var(--fill-color);\n",
              "    }\n",
              "    80% {\n",
              "      border-color: transparent;\n",
              "      border-right-color: var(--fill-color);\n",
              "      border-bottom-color: var(--fill-color);\n",
              "    }\n",
              "    90% {\n",
              "      border-color: transparent;\n",
              "      border-bottom-color: var(--fill-color);\n",
              "    }\n",
              "  }\n",
              "</style>\n",
              "\n",
              "  <script>\n",
              "    async function quickchart(key) {\n",
              "      const quickchartButtonEl =\n",
              "        document.querySelector('#' + key + ' button');\n",
              "      quickchartButtonEl.disabled = true;  // To prevent multiple clicks.\n",
              "      quickchartButtonEl.classList.add('colab-df-spinner');\n",
              "      try {\n",
              "        const charts = await google.colab.kernel.invokeFunction(\n",
              "            'suggestCharts', [key], {});\n",
              "      } catch (error) {\n",
              "        console.error('Error during call to suggestCharts:', error);\n",
              "      }\n",
              "      quickchartButtonEl.classList.remove('colab-df-spinner');\n",
              "      quickchartButtonEl.classList.add('colab-df-quickchart-complete');\n",
              "    }\n",
              "    (() => {\n",
              "      let quickchartButtonEl =\n",
              "        document.querySelector('#df-8dc2af30-7ddf-4bec-8fc1-2d68b1390d98 button');\n",
              "      quickchartButtonEl.style.display =\n",
              "        google.colab.kernel.accessAllowed ? 'block' : 'none';\n",
              "    })();\n",
              "  </script>\n",
              "</div>\n",
              "\n",
              "    </div>\n",
              "  </div>\n"
            ],
            "application/vnd.google.colaboratory.intrinsic+json": {
              "type": "dataframe",
              "variable_name": "df"
            }
          },
          "metadata": {},
          "execution_count": 3
        }
      ]
    },
    {
      "cell_type": "markdown",
      "source": [
        "#  Identificación y descripción de las variables (categóricas y numéricas).\n",
        "\n",
        "✅ Variable categórica: **No se puede sumar o sacar promedio.**\n",
        "\n",
        "Attrition: Rotación del empleado (Sí/No)\n",
        "\n",
        "BusinessTravel: Frecuencia de viajes\n",
        "\n",
        "Department: Área de trabajo\n",
        "\n",
        "EducationField: Área de estudios\n",
        "\n",
        "Gender: Género del empleado\n",
        "\n",
        "JobRole: Cargo\n",
        "\n",
        "MaritalStatus: Estado civil\n",
        "\n",
        "OverTime: Si trabaja horas extra\n",
        "\n",
        "✅ Variables Numéricas: **Se pueden hacer cálculos.**\n",
        "\n",
        "Age: Edad del empleado\n",
        "\n",
        "DailyRate, HourlyRate, MonthlyIncome, MonthlyRate: Ingresos\n",
        "\n",
        "DistanceFromHome: Distancia desde casa\n",
        "\n",
        "TotalWorkingYears, YearsAtCompany, YearsInCurrentRole: Años de experiencia o permanencia\n"
      ],
      "metadata": {
        "id": "eF-W5RY8hn71"
      }
    },
    {
      "cell_type": "code",
      "source": [
        "#Medidas de tendencia central (Medio)\n",
        "print(\"------------PROMEDIO---------------\")\n",
        "edad = df[\"Age\"].mean()\n",
        "print(\"Edad: \", edad)\n",
        "pago = df[\"DailyRate\"].mean()\n",
        "print(\"Pago diario: \", pago)\n",
        "\n",
        "print(\"------------MEDIANA---------------\")\n",
        "edad = df[\"Age\"].median()\n",
        "print(\"Edad: \", edad)\n",
        "pago = df[\"DailyRate\"].median()\n",
        "print(\"Pago diario: \", pago)\n",
        "\n",
        "print(\"------------MODA---------------\")\n",
        "edad = df[\"Age\"].mode()\n",
        "print(\"Edad: \", edad)\n",
        "pago = df[\"DailyRate\"].mode()\n",
        "print(\"Pago diario: \", pago)"
      ],
      "metadata": {
        "colab": {
          "base_uri": "https://localhost:8080/"
        },
        "id": "dyCul4UZknql",
        "outputId": "b5d8ab9c-ad8f-46fe-9240-f108b688a230"
      },
      "execution_count": 6,
      "outputs": [
        {
          "output_type": "stream",
          "name": "stdout",
          "text": [
            "------------PROMEDIO---------------\n",
            "Edad:  36.923809523809524\n",
            "Pago diario:  802.4857142857143\n",
            "------------MEDIANA---------------\n",
            "Edad:  36.0\n",
            "Pago diario:  802.0\n",
            "------------MODA---------------\n",
            "Edad:  0    35\n",
            "Name: Age, dtype: int64\n",
            "Pago diario:  0    691\n",
            "Name: DailyRate, dtype: int64\n"
          ]
        }
      ]
    },
    {
      "cell_type": "markdown",
      "source": [
        "# Medidas de tendencia central y dispersión\n",
        "\n",
        "Las medidas de **tendencia central** son parte de la **Estadítica descriptiva**.\n",
        "\n",
        "La edad promedio es de 36 años y el pago promedio diario de 802.\n",
        "\n",
        "La distribución de estos datos es casi igual, lo datos estan bien distribuidos, sin muchos valores extremos.\n",
        "La mayoria de los empleados tiene 36 años y gana 802, al parecer no hay valores extremos que alteren el promedio. Los sueldos se ven uniformes también."
      ],
      "metadata": {
        "id": "5h0s7roQkPp1"
      }
    },
    {
      "cell_type": "code",
      "source": [
        "#Medidas de dispersión\n",
        "print(\"-----------------EDAD----------------------------\")\n",
        "joven = df.Age.min()\n",
        "num_joven= df[df['Age'] == 18].shape[0]\n",
        "print(f\"Tenemos {num_joven} empleados con {joven} años. Son los empleados de menor edad en la empresa\")\n",
        "\n",
        "mayor = df.Age.max()\n",
        "num_mayor= df[df['Age'] == 60].shape[0]\n",
        "print(f\"Tenemos {num_mayor} empleados con {mayor} años. Son los empleados de mayor edad en la empresa\")\n",
        "\n",
        "rango = df[\"Age\"].max() - df['Age'].min()\n",
        "print(\"El rango que tan separados de los extremos, en este caso la edad\", rango, \"años de difencia\")\n",
        "\n",
        "print(\"-----------------SUELDOS----------------------------\")\n",
        "sueldo = df.DailyRate.min()\n",
        "print(f\"El pago diario minimo es de {sueldo} dólares\")\n",
        "cant_sueldo = df[df['DailyRate'] == 102].shape[0]\n",
        "print(f\"Tenemos {cant_sueldo} empleados con un pago mínimo\")\n",
        "\n",
        "sueldo = df.DailyRate.max()\n",
        "print(f\"El pago diario máximo es de {sueldo} dólares\")\n",
        "cant_sueldo = df[df['DailyRate'] == 1499].shape[0]\n",
        "print(f\"Tenemos {cant_sueldo} empleados con un pago máximo\")\n"
      ],
      "metadata": {
        "colab": {
          "base_uri": "https://localhost:8080/"
        },
        "id": "HIbCTThyk-et",
        "outputId": "ffac554a-2bde-47ff-d25f-93b1963d13d7"
      },
      "execution_count": 32,
      "outputs": [
        {
          "output_type": "stream",
          "name": "stdout",
          "text": [
            "-----------------EDAD----------------------------\n",
            "Tenemos 8 empleados con 18 años. Son los empleados de menor edad en la empresa\n",
            "Tenemos 5 empleados con 60 años. Son los empleados de mayor edad en la empresa\n",
            "El rango que tan separados de los extremos, en este caso la edad 42 años de difencia\n",
            "-----------------SUELDOS----------------------------\n",
            "El pago diario minimo es de 102 dólares\n",
            "Tenemos 1 empleados con un pago mínimo\n",
            "El pago diario máximo es de 1499 dólares\n",
            "Tenemos 1 empleados con un pago máximo\n"
          ]
        }
      ]
    },
    {
      "cell_type": "code",
      "source": [
        "des_edad = df[\"Age\"].std() #Que tan alejados entan lo años respecto a los 36 años\n",
        "print(\"Desviación estandar de la edad \", des_edad)\n",
        "\n",
        "des_sueldo = df[\"DailyRate\"].std() #Que tan alejados entan lo años respecto a los 802 dólares\n",
        "print(\"Desviación estandar de los sueldos \", des_sueldo)"
      ],
      "metadata": {
        "colab": {
          "base_uri": "https://localhost:8080/"
        },
        "id": "4JacQt9_lsUl",
        "outputId": "d447663a-5129-4795-9a71-04af41eaa347"
      },
      "execution_count": 21,
      "outputs": [
        {
          "output_type": "stream",
          "name": "stdout",
          "text": [
            "Desviación estandar de la edad  9.135373489136734\n",
            "Desviación estandar de los sueldos  403.50909994352827\n"
          ]
        }
      ]
    },
    {
      "cell_type": "code",
      "source": [
        "q1 = df[\"Age\"].quantile(0.25)\n",
        "print(f\"Primer cuartil {q1} años\")\n",
        "q3 = df[\"Age\"].quantile(0.75)\n",
        "print(f\"Tercer cuartil {q3} años\")\n",
        "iqr = q3 - q1\n",
        "print(\"Rango intercuartil de la edad \", iqr)\n"
      ],
      "metadata": {
        "colab": {
          "base_uri": "https://localhost:8080/"
        },
        "id": "j_vMxvGimZrM",
        "outputId": "95e33214-2366-4c08-8c2e-af3542123b65"
      },
      "execution_count": 23,
      "outputs": [
        {
          "output_type": "stream",
          "name": "stdout",
          "text": [
            "Primer cuartil 30.0 años\n",
            "Tercer cuartil 43.0 años\n",
            "Rango intercuartil de la edad  13.0\n"
          ]
        }
      ]
    },
    {
      "cell_type": "markdown",
      "source": [
        "## Medidas de dispersión\n",
        "\n",
        "En la edad mínima tenemos 18 años y la máxima 60 años con una difencia de 42 años, esto indica el **Rango**.\n",
        "\n",
        "Con respecto a la **Desviasión estándar**, la mayoría de los empleados tiene una edad entre: 36.9 ± 9.13 → entre 27.8 y 46.0 años\n",
        "\n",
        "Por último, vemos el **Rango intercuartil**, la mayoría de los empleados (el 50% central de los datos) tiene una edad entre 30 y 43 años.\n",
        "\n",
        "\n"
      ],
      "metadata": {
        "id": "otQ5fnlTaJoR"
      }
    },
    {
      "cell_type": "code",
      "source": [
        "# Histograma con curva de densidad para MonthlyIncome\n",
        "plt.figure(figsize=(8, 5))\n",
        "sns.histplot(df['MonthlyIncome'], kde=True, bins=30)\n",
        "plt.title('Distribución del Ingreso Mensual')\n",
        "plt.xlabel('Ingreso Mensual')\n",
        "plt.ylabel('Frecuencia')\n",
        "plt.grid(True)\n",
        "plt.show()\n"
      ],
      "metadata": {
        "colab": {
          "base_uri": "https://localhost:8080/",
          "height": 488
        },
        "id": "SWNRDaYHgQgf",
        "outputId": "ed4639b3-076e-4ba2-a1bf-7bb7f2ac4a25"
      },
      "execution_count": 24,
      "outputs": [
        {
          "output_type": "display_data",
          "data": {
            "text/plain": [
              "<Figure size 800x500 with 1 Axes>"
            ],
            "image/png": "[encoded data removed]"
          },
          "metadata": {}
        }
      ]
    },
    {
      "cell_type": "markdown",
      "source": [
        "# Análisis de distribución (incluyendo si hay sesgo o simetría).\n",
        "\n",
        "La distribución es **asimétrica** a la derecha (**sesgo positivo**).\n",
        "\n",
        "Hay muchos empleados con sueldos bajos o medios, y pocos con sueldos muy altos.\n",
        "\n",
        "La media está por encima de la mediana, lo cual es típico en este tipo de **sesgo**.\n",
        "\n",
        "En este caso, la mediana es un mejor resumen del sueldo “típico” que la media."
      ],
      "metadata": {
        "id": "N3dOJmgXggp5"
      }
    },
    {
      "cell_type": "code",
      "source": [
        "#  Boxplot (diagrama de caja): para analizar dispersión, asimetría y valores atípicos.\n",
        "plt.figure(figsize=(6, 4))\n",
        "sns.boxplot(x='Attrition', y='Age', data=df)\n",
        "plt.title('Edad vs Rotación de Personal')\n",
        "plt.xlabel('Rotación')\n",
        "plt.ylabel('Edad')\n",
        "plt.grid(True)\n",
        "plt.show()\n"
      ],
      "metadata": {
        "colab": {
          "base_uri": "https://localhost:8080/",
          "height": 410
        },
        "id": "ABOgDmcxgGfF",
        "outputId": "7c08f0fa-a6f7-4e94-f3c6-b73d3319c051"
      },
      "execution_count": 26,
      "outputs": [
        {
          "output_type": "display_data",
          "data": {
            "text/plain": [
              "<Figure size 600x400 with 1 Axes>"
            ],
            "image/png": "[encoded data removed]"
          },
          "metadata": {}
        }
      ]
    },
    {
      "cell_type": "code",
      "source": [
        "#Gráfico de barras agrupadas\n",
        "plt.figure(figsize=(6, 4))\n",
        "sns.countplot(x='OverTime', hue='Attrition', data=df)\n",
        "plt.title('Horas Extra vs Rotación de Personal')\n",
        "plt.xlabel('Horas Extra')\n",
        "plt.ylabel('Cantidad de empleados')\n",
        "plt.legend(title='Rotación', labels=['Se queda', 'Renuncia'])\n",
        "plt.grid(True)\n",
        "plt.show()\n"
      ],
      "metadata": {
        "colab": {
          "base_uri": "https://localhost:8080/",
          "height": 410
        },
        "id": "1z4DHMG1kg-n",
        "outputId": "6c842f38-f9ff-4365-aa0f-a1f98dca046c"
      },
      "execution_count": 27,
      "outputs": [
        {
          "output_type": "display_data",
          "data": {
            "text/plain": [
              "<Figure size 600x400 with 1 Axes>"
            ],
            "image/png": "[encoded data removed]"
          },
          "metadata": {}
        }
      ]
    },
    {
      "cell_type": "code",
      "source": [
        "#Histogramas\n",
        "plt.figure(figsize=(8, 5))\n",
        "sns.histplot(data=df, x='MonthlyIncome', hue='Attrition', kde=True, bins=30, element='step')\n",
        "plt.title('Distribución del Ingreso Mensual según Rotación')\n",
        "plt.xlabel('Ingreso Mensual')\n",
        "plt.ylabel('Frecuencia')\n",
        "plt.grid(True)\n",
        "plt.show()\n"
      ],
      "metadata": {
        "colab": {
          "base_uri": "https://localhost:8080/",
          "height": 488
        },
        "id": "5NJj0DIdlaqJ",
        "outputId": "d6b75481-e063-45ec-ea6d-b330bf111d20"
      },
      "execution_count": 28,
      "outputs": [
        {
          "output_type": "display_data",
          "data": {
            "text/plain": [
              "<Figure size 800x500 with 1 Axes>"
            ],
            "image/png": "[encoded data removed]"
          },
          "metadata": {}
        }
      ]
    },
    {
      "cell_type": "code",
      "source": [
        "#Tablas de frecuencia\n",
        "df['Attrition'].value_counts()"
      ],
      "metadata": {
        "colab": {
          "base_uri": "https://localhost:8080/",
          "height": 178
        },
        "id": "wZHb_2SXmWe4",
        "outputId": "74be80ce-3285-4e85-fc23-d91bc74d757c"
      },
      "execution_count": 29,
      "outputs": [
        {
          "output_type": "execute_result",
          "data": {
            "text/plain": [
              "Attrition\n",
              "No     1233\n",
              "Yes     237\n",
              "Name: count, dtype: int64"
            ],
            "text/html": [
              "<div>\n",
              "<style scoped>\n",
              "    .dataframe tbody tr th:only-of-type {\n",
              "        vertical-align: middle;\n",
              "    }\n",
              "\n",
              "    .dataframe tbody tr th {\n",
              "        vertical-align: top;\n",
              "    }\n",
              "\n",
              "    .dataframe thead th {\n",
              "        text-align: right;\n",
              "    }\n",
              "</style>\n",
              "<table border=\"1\" class=\"dataframe\">\n",
              "  <thead>\n",
              "    <tr style=\"text-align: right;\">\n",
              "      <th></th>\n",
              "      <th>count</th>\n",
              "    </tr>\n",
              "    <tr>\n",
              "      <th>Attrition</th>\n",
              "      <th></th>\n",
              "    </tr>\n",
              "  </thead>\n",
              "  <tbody>\n",
              "    <tr>\n",
              "      <th>No</th>\n",
              "      <td>1233</td>\n",
              "    </tr>\n",
              "    <tr>\n",
              "      <th>Yes</th>\n",
              "      <td>237</td>\n",
              "    </tr>\n",
              "  </tbody>\n",
              "</table>\n",
              "</div><br><label><b>dtype:</b> int64</label>"
            ]
          },
          "metadata": {},
          "execution_count": 29
        }
      ]
    },
    {
      "cell_type": "markdown",
      "source": [
        "# Visualizaciones gráficas:\n",
        " **Boxplot ó diagrama de caja:** Los empleados más jóvenes tienden a renunciar más que los mayores.\n",
        "\n",
        "**Gráfico de barras agrupadas:** La mayoría de los que hacen horas extra terminan renunciando.\n",
        "Los que no hacen horas extra suelen quedarse.\n",
        "\n",
        "**Histogramas:** Quienes renuncian suelen concentrarse en sueldos más bajos.\n",
        "Quienes se quedan tienen ingresos más variados y hay más con sueldos altos.\n",
        "Esto comparar visualmente cómo se distribuye el ingreso en ambos grupos.\n",
        "\n",
        "**Tablas de frecuencia:** 237 personas renuncian y se quedan 1233"
      ],
      "metadata": {
        "id": "Fbuz5H0MmtPl"
      }
    },
    {
      "cell_type": "code",
      "source": [
        "#Identificación de valores atípicos.\n",
        "plt.figure(figsize=(8, 4))\n",
        "sns.boxplot(x=df['MonthlyIncome'])\n",
        "plt.title('Identificación de Valores Atípicos - Ingreso Mensual')\n",
        "plt.xlabel('Ingreso Mensual')\n",
        "plt.grid(True)\n",
        "plt.show()"
      ],
      "metadata": {
        "colab": {
          "base_uri": "https://localhost:8080/",
          "height": 411
        },
        "id": "yuQf6aVpnluF",
        "outputId": "3c92c791-76fc-4cb3-a50e-3fcce86ccdf7"
      },
      "execution_count": 30,
      "outputs": [
        {
          "output_type": "display_data",
          "data": {
            "text/plain": [
              "<Figure size 800x400 with 1 Axes>"
            ],
            "image/png": "[encoded data removed]"
          },
          "metadata": {}
        }
      ]
    },
    {
      "cell_type": "markdown",
      "source": [
        "# Identificación de valores atípicos.\n",
        "\n",
        "En este caso podemos identificar sueldo muy altos, que serían los valores atípicos u outliers.\n",
        "\n",
        "Los puntos sueltos fuera de los bigotes son los outliers."
      ],
      "metadata": {
        "id": "MCwdDPNuniqM"
      }
    },
    {
      "cell_type": "markdown",
      "source": [
        "# Reflexiones o conclusiones preliminares sobre el comportamiento de los datos.\n",
        "\n",
        "✨ Este dataset nos trae información de los empleados de una empresa. Tiene datos personales, departamento, ingreso mensual, horas extras y la rennuncia.\n",
        "\n",
        "✨ Edad promedio de 36 años y pago diario de 802. La edad mínima es de 18 años y la máxima de 60 años. Por otra parte el pago diario va de 102 a 1499.\n",
        "La mayoría de los empleados tiene una edad entre 27 y 46 años.\n",
        "\n",
        "✨ Hay muchos empleados con sueldos bajos o medios, y pocos con sueldos muy altos.\n",
        "\n",
        "✨Los empleados que más renuncia son:\n",
        "Jóvenes\n",
        "Los que hacen horas extras\n",
        "Sueldos bajos"
      ],
      "metadata": {
        "id": "I9B1lU7-ovJl"
      }
    },
    {
      "cell_type": "markdown",
      "source": [
        "#Por último...\n",
        "\n",
        "**Explorar qué factores podrían estar asociados a la rotación de personal (attrition)**\n",
        "\n",
        "*   Edad: Más jóvenes\n",
        "*   Ingreso mensual: Menor sueldo\n",
        "*   Horas extras: A mayor horas extras más rotación\n",
        "*   Estado civil: Soltero\n",
        "\n",
        "**Describir el perfil de los empleados que tienden a quedarse o a abandonar la empresa.**\n",
        "\n",
        "📉 Empleados que tienden a abandonar la empresa:\n",
        "* Edad entre 18 y 30 años\n",
        "\n",
        "* Ingreso mensual bajo\n",
        "\n",
        "* Realizan horas extra\n",
        "\n",
        "* Mayormente solteros\n",
        "\n",
        "* Algunos con pocos años en la empresa\n",
        "\n",
        "📈 Empleados que tienden a quedarse:\n",
        "* Edad entre 35 y 50 años\n",
        "\n",
        "* Sueldo medio o alto\n",
        "\n",
        "* No trabajan horas extra\n",
        "\n",
        "* Mayor proporción de casados\n",
        "\n",
        "* Mayor antigüedad en el cargo o en la empresa"
      ],
      "metadata": {
        "id": "zwZqwiQcptx9"
      }
    }
  ]
}